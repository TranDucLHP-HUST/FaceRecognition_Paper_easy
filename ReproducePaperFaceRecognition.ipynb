{
  "nbformat": 4,
  "nbformat_minor": 0,
  "metadata": {
    "colab": {
      "name": "ReproducePaperFaceRecognition.ipynb",
      "provenance": [],
      "collapsed_sections": [],
      "mount_file_id": "1Qe1VIdH_KAMeXkDsHM3vaqXlF9qWo4GR",
      "authorship_tag": "ABX9TyM7SDinFKO5Ynus/riisTui",
      "include_colab_link": true
    },
    "kernelspec": {
      "display_name": "Python 3",
      "name": "python3"
    },
    "language_info": {
      "name": "python"
    }
  },
  "cells": [
    {
      "cell_type": "markdown",
      "metadata": {
        "id": "view-in-github",
        "colab_type": "text"
      },
      "source": [
        "<a href=\"https://colab.research.google.com/github/TranDucLHP-HUST/FaceRecognition_Paper_easy/blob/main/ReproducePaperFaceRecognition.ipynb\" target=\"_parent\"><img src=\"https://colab.research.google.com/assets/colab-badge.svg\" alt=\"Open In Colab\"/></a>"
      ]
    },
    {
      "cell_type": "markdown",
      "metadata": {
        "id": "RLqBf6ya9Ar_"
      },
      "source": [
        "Paper name: Face Recognition using Deep Neural Network Across Variationsin Pose and Illumination (S. Meenakshi, M. Siva Jothi, D. Murugan)"
      ]
    },
    {
      "cell_type": "markdown",
      "metadata": {
        "id": "A8Xdx9g7Cygj"
      },
      "source": [
        "Tensorflow (2.3.0)\n",
        "Python 3.7.3"
      ]
    },
    {
      "cell_type": "code",
      "metadata": {
        "id": "ATqZJ2fu9AHt"
      },
      "source": [
        "import tensorflow as tf\n",
        "import numpy as np\n",
        "import os\n",
        "import cv2\n",
        "from PIL import Image, ImageOps\n",
        "from tensorflow.keras import layers\n",
        "from tensorflow.keras.models import Sequential\n",
        "from sklearn.model_selection import train_test_split\n",
        "from matplotlib import pyplot as plt"
      ],
      "execution_count": null,
      "outputs": []
    },
    {
      "cell_type": "code",
      "metadata": {
        "id": "GAfaMAAX8xN0"
      },
      "source": [
        "image_path = \"/content/drive/MyDrive/Colab Notebooks/data_face_recognition/images\"\n",
        "model_path = '/content/drive/MyDrive/Colab Notebooks/data_face_recognition/model/face_recognition_model_cnn'\n",
        "size_img=32"
      ],
      "execution_count": null,
      "outputs": []
    },
    {
      "cell_type": "code",
      "metadata": {
        "id": "ZDPNmfiu9m3U"
      },
      "source": [
        "def get_data(path):\n",
        "    ids = []\n",
        "    faces = []\n",
        "    id_class = []\n",
        "    fix_size = (size_img, size_img)\n",
        "    image_paths = [os.path.join(path, f) for f in os.listdir(path)]\n",
        "\n",
        "    for image_path in image_paths:\n",
        "        id = int(os.path.split(image_path)[-1])\n",
        "        id_class.append(id)\n",
        "        images = [os.path.join(image_path, f) for f in os.listdir(image_path)]\n",
        "\n",
        "        for image in images:\n",
        "\n",
        "            face_img = Image.open(image).convert('L')  #.convert('L) to gray image, not need gray in under\n",
        "            # # convert color to gray\n",
        "            # gray_image = ImageOps.grayscale(face_img)\n",
        "\n",
        "            # resize\n",
        "            face_np = np.array(face_img, 'uint8')\n",
        "            face_resize = cv2.resize(face_np, fix_size)\n",
        "\n",
        "            # split to get ID of the image\n",
        "            ids.append(id)\n",
        "\n",
        "            faces.append(face_resize)\n",
        "\n",
        "    return np.array(ids), np.array(faces), np.array(id_class)\n",
        "\n",
        "\n",
        "# get one-hot vector for label\n",
        "def get_label(ids, num_class):\n",
        "    result = []\n",
        "    for id in ids:\n",
        "        middle = np.zeros(num_class)\n",
        "        middle[int(id)-1] = 1\n",
        "        result.append(middle)\n",
        "\n",
        "    return np.array(result)"
      ],
      "execution_count": null,
      "outputs": []
    },
    {
      "cell_type": "markdown",
      "metadata": {
        "id": "JvCj7z6kEfIw"
      },
      "source": [
        "Get images and labels corresponding\n",
        "Has \n",
        "\n"
      ]
    },
    {
      "cell_type": "code",
      "metadata": {
        "colab": {
          "base_uri": "https://localhost:8080/"
        },
        "id": "djo0ESg09o4k",
        "outputId": "5287ed1c-24ec-4620-96c0-449b83c858c6"
      },
      "source": [
        "# get data and reshape\n",
        "ids, data, id_classes = get_data(image_path)\n",
        "num_classes = len(id_classes)\n",
        "input_data = np.array(data)\n",
        "input_data = input_data.reshape((-1,size_img,size_img,1))\n",
        "label_data = get_label(ids, num_classes)\n",
        "\n",
        "# split data\n",
        "X_train, X_val_test, y_train, y_val_test, id_train, id_val_test = train_test_split(input_data, label_data, ids, test_size=0.3, random_state=42)\n",
        "X_val, X_test, y_val, y_test, id_val, id_test = train_test_split(X_val_test, y_val_test, id_val_test, test_size=0.2, random_state=42)\n",
        "\n",
        "print(X_train.shape)\n",
        "print( X_val.shape)\n",
        "print(X_test.shape)\n",
        "print(label_data.shape)\n"
      ],
      "execution_count": null,
      "outputs": [
        {
          "output_type": "stream",
          "text": [
            "(624, 32, 32, 1)\n",
            "(214, 32, 32, 1)\n",
            "(54, 32, 32, 1)\n",
            "(892, 10)\n"
          ],
          "name": "stdout"
        }
      ]
    },
    {
      "cell_type": "code",
      "metadata": {
        "colab": {
          "base_uri": "https://localhost:8080/"
        },
        "id": "zR08hVozqa-2",
        "outputId": "a04c8771-85a6-48cf-b692-e827d0e95070"
      },
      "source": [
        "!pip install -q -U tensorflow-addons\n",
        "import tensorflow_addons as tfa"
      ],
      "execution_count": null,
      "outputs": [
        {
          "output_type": "stream",
          "text": [
            "\u001b[?25l\r\u001b[K     |▌                               | 10kB 20.8MB/s eta 0:00:01\r\u001b[K     |█                               | 20kB 28.0MB/s eta 0:00:01\r\u001b[K     |█▍                              | 30kB 14.4MB/s eta 0:00:01\r\u001b[K     |█▉                              | 40kB 10.2MB/s eta 0:00:01\r\u001b[K     |██▎                             | 51kB 8.2MB/s eta 0:00:01\r\u001b[K     |██▉                             | 61kB 7.2MB/s eta 0:00:01\r\u001b[K     |███▎                            | 71kB 8.2MB/s eta 0:00:01\r\u001b[K     |███▊                            | 81kB 9.0MB/s eta 0:00:01\r\u001b[K     |████▏                           | 92kB 8.3MB/s eta 0:00:01\r\u001b[K     |████▋                           | 102kB 8.7MB/s eta 0:00:01\r\u001b[K     |█████▏                          | 112kB 8.7MB/s eta 0:00:01\r\u001b[K     |█████▋                          | 122kB 8.7MB/s eta 0:00:01\r\u001b[K     |██████                          | 133kB 8.7MB/s eta 0:00:01\r\u001b[K     |██████▌                         | 143kB 8.7MB/s eta 0:00:01\r\u001b[K     |███████                         | 153kB 8.7MB/s eta 0:00:01\r\u001b[K     |███████▌                        | 163kB 8.7MB/s eta 0:00:01\r\u001b[K     |████████                        | 174kB 8.7MB/s eta 0:00:01\r\u001b[K     |████████▍                       | 184kB 8.7MB/s eta 0:00:01\r\u001b[K     |████████▉                       | 194kB 8.7MB/s eta 0:00:01\r\u001b[K     |█████████▎                      | 204kB 8.7MB/s eta 0:00:01\r\u001b[K     |█████████▉                      | 215kB 8.7MB/s eta 0:00:01\r\u001b[K     |██████████▎                     | 225kB 8.7MB/s eta 0:00:01\r\u001b[K     |██████████▊                     | 235kB 8.7MB/s eta 0:00:01\r\u001b[K     |███████████▏                    | 245kB 8.7MB/s eta 0:00:01\r\u001b[K     |███████████▋                    | 256kB 8.7MB/s eta 0:00:01\r\u001b[K     |████████████▏                   | 266kB 8.7MB/s eta 0:00:01\r\u001b[K     |████████████▋                   | 276kB 8.7MB/s eta 0:00:01\r\u001b[K     |█████████████                   | 286kB 8.7MB/s eta 0:00:01\r\u001b[K     |█████████████▌                  | 296kB 8.7MB/s eta 0:00:01\r\u001b[K     |██████████████                  | 307kB 8.7MB/s eta 0:00:01\r\u001b[K     |██████████████▍                 | 317kB 8.7MB/s eta 0:00:01\r\u001b[K     |███████████████                 | 327kB 8.7MB/s eta 0:00:01\r\u001b[K     |███████████████▍                | 337kB 8.7MB/s eta 0:00:01\r\u001b[K     |███████████████▉                | 348kB 8.7MB/s eta 0:00:01\r\u001b[K     |████████████████▎               | 358kB 8.7MB/s eta 0:00:01\r\u001b[K     |████████████████▊               | 368kB 8.7MB/s eta 0:00:01\r\u001b[K     |█████████████████▎              | 378kB 8.7MB/s eta 0:00:01\r\u001b[K     |█████████████████▊              | 389kB 8.7MB/s eta 0:00:01\r\u001b[K     |██████████████████▏             | 399kB 8.7MB/s eta 0:00:01\r\u001b[K     |██████████████████▋             | 409kB 8.7MB/s eta 0:00:01\r\u001b[K     |███████████████████             | 419kB 8.7MB/s eta 0:00:01\r\u001b[K     |███████████████████▋            | 430kB 8.7MB/s eta 0:00:01\r\u001b[K     |████████████████████            | 440kB 8.7MB/s eta 0:00:01\r\u001b[K     |████████████████████▌           | 450kB 8.7MB/s eta 0:00:01\r\u001b[K     |█████████████████████           | 460kB 8.7MB/s eta 0:00:01\r\u001b[K     |█████████████████████▍          | 471kB 8.7MB/s eta 0:00:01\r\u001b[K     |██████████████████████          | 481kB 8.7MB/s eta 0:00:01\r\u001b[K     |██████████████████████▍         | 491kB 8.7MB/s eta 0:00:01\r\u001b[K     |██████████████████████▉         | 501kB 8.7MB/s eta 0:00:01\r\u001b[K     |███████████████████████▎        | 512kB 8.7MB/s eta 0:00:01\r\u001b[K     |███████████████████████▊        | 522kB 8.7MB/s eta 0:00:01\r\u001b[K     |████████████████████████▎       | 532kB 8.7MB/s eta 0:00:01\r\u001b[K     |████████████████████████▊       | 542kB 8.7MB/s eta 0:00:01\r\u001b[K     |█████████████████████████▏      | 552kB 8.7MB/s eta 0:00:01\r\u001b[K     |█████████████████████████▋      | 563kB 8.7MB/s eta 0:00:01\r\u001b[K     |██████████████████████████      | 573kB 8.7MB/s eta 0:00:01\r\u001b[K     |██████████████████████████▋     | 583kB 8.7MB/s eta 0:00:01\r\u001b[K     |███████████████████████████     | 593kB 8.7MB/s eta 0:00:01\r\u001b[K     |███████████████████████████▌    | 604kB 8.7MB/s eta 0:00:01\r\u001b[K     |████████████████████████████    | 614kB 8.7MB/s eta 0:00:01\r\u001b[K     |████████████████████████████▍   | 624kB 8.7MB/s eta 0:00:01\r\u001b[K     |████████████████████████████▉   | 634kB 8.7MB/s eta 0:00:01\r\u001b[K     |█████████████████████████████▍  | 645kB 8.7MB/s eta 0:00:01\r\u001b[K     |█████████████████████████████▉  | 655kB 8.7MB/s eta 0:00:01\r\u001b[K     |██████████████████████████████▎ | 665kB 8.7MB/s eta 0:00:01\r\u001b[K     |██████████████████████████████▊ | 675kB 8.7MB/s eta 0:00:01\r\u001b[K     |███████████████████████████████▏| 686kB 8.7MB/s eta 0:00:01\r\u001b[K     |███████████████████████████████▊| 696kB 8.7MB/s eta 0:00:01\r\u001b[K     |████████████████████████████████| 706kB 8.7MB/s \n",
            "\u001b[?25h"
          ],
          "name": "stdout"
        }
      ]
    },
    {
      "cell_type": "code",
      "metadata": {
        "id": "N0Q1gMeJCf_0",
        "colab": {
          "base_uri": "https://localhost:8080/"
        },
        "outputId": "7a9a4d5a-473a-4df2-fc7b-7a065db3b403"
      },
      "source": [
        "# build model structure\n",
        "\n",
        "epochs = 100\n",
        "\n",
        "model = Sequential([\n",
        "  layers.Input(shape=(size_img, size_img, 1)),\n",
        "  layers.Conv2D(15, 3, activation='relu'),\n",
        "  layers.MaxPooling2D(2),\n",
        "  layers.Dropout(0.2),\n",
        "  layers.Conv2D(90, 3, activation='relu'),\n",
        "  layers.MaxPooling2D(2),\n",
        "  layers.Dropout(0.2),\n",
        "  layers.Conv2D(150, 3, activation='relu'),\n",
        "  layers.MaxPooling2D(2),\n",
        "  layers.Dropout(0.2),\n",
        "  layers.Flatten(),\n",
        "  layers.Dense(64, activation='relu'),\n",
        "  # layers.Dense(64, activation='softmax'),\n",
        "  # layers.Dropout(0.3),\n",
        "  layers.Dense(num_classes, activation='softmax')\n",
        "])\n",
        "\n",
        "opt = tf.keras.optimizers.Adam(lr = 0.001)\n",
        "model.compile(optimizer=opt,\n",
        "              loss=tf.keras.losses.BinaryCrossentropy(), # tfa.losses.TripletSemiHardLoss()\n",
        "              metrics=['accuracy'])\n",
        "\n",
        "# view model structure\n",
        "model.summary()\n",
        "\n",
        "history = model.fit(x=X_train, y=y_train, validation_data= (X_val, y_val), epochs=epochs, batch_size=16)\n",
        "\n",
        "# save model\n",
        "model.save(model_path)\n"
      ],
      "execution_count": null,
      "outputs": [
        {
          "output_type": "stream",
          "text": [
            "Model: \"sequential_7\"\n",
            "_________________________________________________________________\n",
            "Layer (type)                 Output Shape              Param #   \n",
            "=================================================================\n",
            "conv2d_21 (Conv2D)           (None, 30, 30, 15)        150       \n",
            "_________________________________________________________________\n",
            "max_pooling2d_21 (MaxPooling (None, 15, 15, 15)        0         \n",
            "_________________________________________________________________\n",
            "dropout_21 (Dropout)         (None, 15, 15, 15)        0         \n",
            "_________________________________________________________________\n",
            "conv2d_22 (Conv2D)           (None, 13, 13, 90)        12240     \n",
            "_________________________________________________________________\n",
            "max_pooling2d_22 (MaxPooling (None, 6, 6, 90)          0         \n",
            "_________________________________________________________________\n",
            "dropout_22 (Dropout)         (None, 6, 6, 90)          0         \n",
            "_________________________________________________________________\n",
            "conv2d_23 (Conv2D)           (None, 4, 4, 150)         121650    \n",
            "_________________________________________________________________\n",
            "max_pooling2d_23 (MaxPooling (None, 2, 2, 150)         0         \n",
            "_________________________________________________________________\n",
            "dropout_23 (Dropout)         (None, 2, 2, 150)         0         \n",
            "_________________________________________________________________\n",
            "flatten_7 (Flatten)          (None, 600)               0         \n",
            "_________________________________________________________________\n",
            "dense_14 (Dense)             (None, 64)                38464     \n",
            "_________________________________________________________________\n",
            "dense_15 (Dense)             (None, 10)                650       \n",
            "=================================================================\n",
            "Total params: 173,154\n",
            "Trainable params: 173,154\n",
            "Non-trainable params: 0\n",
            "_________________________________________________________________\n",
            "Epoch 1/100\n",
            "39/39 [==============================] - 2s 37ms/step - loss: 1.9790 - accuracy: 0.1477 - val_loss: 0.4740 - val_accuracy: 0.2150\n",
            "Epoch 2/100\n",
            "39/39 [==============================] - 1s 33ms/step - loss: 0.3646 - accuracy: 0.1818 - val_loss: 0.5034 - val_accuracy: 0.2897\n",
            "Epoch 3/100\n",
            "39/39 [==============================] - 1s 33ms/step - loss: 0.3299 - accuracy: 0.2762 - val_loss: 0.5079 - val_accuracy: 0.3832\n",
            "Epoch 4/100\n",
            "39/39 [==============================] - 1s 33ms/step - loss: 0.3162 - accuracy: 0.3063 - val_loss: 0.4357 - val_accuracy: 0.3131\n",
            "Epoch 5/100\n",
            "39/39 [==============================] - 1s 33ms/step - loss: 0.2913 - accuracy: 0.3414 - val_loss: 0.3369 - val_accuracy: 0.3972\n",
            "Epoch 6/100\n",
            "39/39 [==============================] - 1s 34ms/step - loss: 0.2741 - accuracy: 0.3838 - val_loss: 0.3235 - val_accuracy: 0.4766\n",
            "Epoch 7/100\n",
            "39/39 [==============================] - 1s 32ms/step - loss: 0.2544 - accuracy: 0.4464 - val_loss: 0.3004 - val_accuracy: 0.5421\n",
            "Epoch 8/100\n",
            "39/39 [==============================] - 1s 32ms/step - loss: 0.2231 - accuracy: 0.5454 - val_loss: 0.2349 - val_accuracy: 0.6168\n",
            "Epoch 9/100\n",
            "39/39 [==============================] - 1s 32ms/step - loss: 0.2083 - accuracy: 0.5713 - val_loss: 0.2126 - val_accuracy: 0.6168\n",
            "Epoch 10/100\n",
            "39/39 [==============================] - 1s 33ms/step - loss: 0.1834 - accuracy: 0.6099 - val_loss: 0.1846 - val_accuracy: 0.6869\n",
            "Epoch 11/100\n",
            "39/39 [==============================] - 1s 33ms/step - loss: 0.1489 - accuracy: 0.7088 - val_loss: 0.1773 - val_accuracy: 0.7290\n",
            "Epoch 12/100\n",
            "39/39 [==============================] - 1s 34ms/step - loss: 0.1419 - accuracy: 0.7311 - val_loss: 0.1508 - val_accuracy: 0.7196\n",
            "Epoch 13/100\n",
            "39/39 [==============================] - 1s 33ms/step - loss: 0.1347 - accuracy: 0.7401 - val_loss: 0.1345 - val_accuracy: 0.7617\n",
            "Epoch 14/100\n",
            "39/39 [==============================] - 1s 33ms/step - loss: 0.1184 - accuracy: 0.7987 - val_loss: 0.1172 - val_accuracy: 0.7991\n",
            "Epoch 15/100\n",
            "39/39 [==============================] - 1s 34ms/step - loss: 0.1057 - accuracy: 0.8192 - val_loss: 0.1089 - val_accuracy: 0.8037\n",
            "Epoch 16/100\n",
            "39/39 [==============================] - 1s 34ms/step - loss: 0.0983 - accuracy: 0.8158 - val_loss: 0.1219 - val_accuracy: 0.7617\n",
            "Epoch 17/100\n",
            "39/39 [==============================] - 1s 33ms/step - loss: 0.0881 - accuracy: 0.8671 - val_loss: 0.1056 - val_accuracy: 0.8131\n",
            "Epoch 18/100\n",
            "39/39 [==============================] - 1s 33ms/step - loss: 0.0746 - accuracy: 0.8977 - val_loss: 0.1007 - val_accuracy: 0.8364\n",
            "Epoch 19/100\n",
            "39/39 [==============================] - 1s 34ms/step - loss: 0.0727 - accuracy: 0.8871 - val_loss: 0.0948 - val_accuracy: 0.8224\n",
            "Epoch 20/100\n",
            "39/39 [==============================] - 1s 33ms/step - loss: 0.0529 - accuracy: 0.9375 - val_loss: 0.0865 - val_accuracy: 0.8692\n",
            "Epoch 21/100\n",
            "39/39 [==============================] - 1s 34ms/step - loss: 0.0541 - accuracy: 0.9207 - val_loss: 0.0884 - val_accuracy: 0.8411\n",
            "Epoch 22/100\n",
            "39/39 [==============================] - 1s 33ms/step - loss: 0.0494 - accuracy: 0.9355 - val_loss: 0.0826 - val_accuracy: 0.8738\n",
            "Epoch 23/100\n",
            "39/39 [==============================] - 1s 34ms/step - loss: 0.0377 - accuracy: 0.9646 - val_loss: 0.0871 - val_accuracy: 0.8598\n",
            "Epoch 24/100\n",
            "39/39 [==============================] - 1s 34ms/step - loss: 0.0402 - accuracy: 0.9370 - val_loss: 0.0747 - val_accuracy: 0.8738\n",
            "Epoch 25/100\n",
            "39/39 [==============================] - 1s 34ms/step - loss: 0.0383 - accuracy: 0.9523 - val_loss: 0.0691 - val_accuracy: 0.8832\n",
            "Epoch 26/100\n",
            "39/39 [==============================] - 1s 33ms/step - loss: 0.0255 - accuracy: 0.9685 - val_loss: 0.0697 - val_accuracy: 0.8972\n",
            "Epoch 27/100\n",
            "39/39 [==============================] - 1s 34ms/step - loss: 0.0300 - accuracy: 0.9608 - val_loss: 0.0935 - val_accuracy: 0.8692\n",
            "Epoch 28/100\n",
            "39/39 [==============================] - 1s 33ms/step - loss: 0.0279 - accuracy: 0.9639 - val_loss: 0.0819 - val_accuracy: 0.8785\n",
            "Epoch 29/100\n",
            "39/39 [==============================] - 1s 35ms/step - loss: 0.0342 - accuracy: 0.9542 - val_loss: 0.0695 - val_accuracy: 0.9019\n",
            "Epoch 30/100\n",
            "39/39 [==============================] - 1s 34ms/step - loss: 0.0167 - accuracy: 0.9902 - val_loss: 0.0751 - val_accuracy: 0.8879\n",
            "Epoch 31/100\n",
            "39/39 [==============================] - 1s 34ms/step - loss: 0.0177 - accuracy: 0.9836 - val_loss: 0.0578 - val_accuracy: 0.9065\n",
            "Epoch 32/100\n",
            "39/39 [==============================] - 1s 35ms/step - loss: 0.0213 - accuracy: 0.9814 - val_loss: 0.0686 - val_accuracy: 0.8879\n",
            "Epoch 33/100\n",
            "39/39 [==============================] - 1s 34ms/step - loss: 0.0224 - accuracy: 0.9817 - val_loss: 0.0794 - val_accuracy: 0.8738\n",
            "Epoch 34/100\n",
            "39/39 [==============================] - 1s 34ms/step - loss: 0.0153 - accuracy: 0.9941 - val_loss: 0.0706 - val_accuracy: 0.8738\n",
            "Epoch 35/100\n",
            "39/39 [==============================] - 1s 34ms/step - loss: 0.0169 - accuracy: 0.9871 - val_loss: 0.0616 - val_accuracy: 0.9159\n",
            "Epoch 36/100\n",
            "39/39 [==============================] - 1s 35ms/step - loss: 0.0179 - accuracy: 0.9835 - val_loss: 0.0786 - val_accuracy: 0.8925\n",
            "Epoch 37/100\n",
            "39/39 [==============================] - 1s 35ms/step - loss: 0.0168 - accuracy: 0.9906 - val_loss: 0.0751 - val_accuracy: 0.9112\n",
            "Epoch 38/100\n",
            "39/39 [==============================] - 1s 35ms/step - loss: 0.0139 - accuracy: 0.9925 - val_loss: 0.0736 - val_accuracy: 0.9065\n",
            "Epoch 39/100\n",
            "39/39 [==============================] - 1s 36ms/step - loss: 0.0072 - accuracy: 0.9994 - val_loss: 0.0683 - val_accuracy: 0.9252\n",
            "Epoch 40/100\n",
            "39/39 [==============================] - 1s 34ms/step - loss: 0.0133 - accuracy: 0.9829 - val_loss: 0.0612 - val_accuracy: 0.9159\n",
            "Epoch 41/100\n",
            "39/39 [==============================] - 1s 34ms/step - loss: 0.0125 - accuracy: 0.9888 - val_loss: 0.0571 - val_accuracy: 0.9159\n",
            "Epoch 42/100\n",
            "39/39 [==============================] - 1s 34ms/step - loss: 0.0115 - accuracy: 0.9875 - val_loss: 0.0774 - val_accuracy: 0.9019\n",
            "Epoch 43/100\n",
            "39/39 [==============================] - 1s 34ms/step - loss: 0.0095 - accuracy: 0.9892 - val_loss: 0.0830 - val_accuracy: 0.8832\n",
            "Epoch 44/100\n",
            "39/39 [==============================] - 1s 34ms/step - loss: 0.0128 - accuracy: 0.9874 - val_loss: 0.0697 - val_accuracy: 0.9019\n",
            "Epoch 45/100\n",
            "39/39 [==============================] - 1s 35ms/step - loss: 0.0118 - accuracy: 0.9912 - val_loss: 0.0757 - val_accuracy: 0.9112\n",
            "Epoch 46/100\n",
            "39/39 [==============================] - 1s 33ms/step - loss: 0.0071 - accuracy: 0.9994 - val_loss: 0.0904 - val_accuracy: 0.8925\n",
            "Epoch 47/100\n",
            "39/39 [==============================] - 1s 34ms/step - loss: 0.0075 - accuracy: 0.9953 - val_loss: 0.0837 - val_accuracy: 0.8972\n",
            "Epoch 48/100\n",
            "39/39 [==============================] - 1s 34ms/step - loss: 0.0079 - accuracy: 0.9919 - val_loss: 0.0675 - val_accuracy: 0.9019\n",
            "Epoch 49/100\n",
            "39/39 [==============================] - 1s 34ms/step - loss: 0.0100 - accuracy: 0.9939 - val_loss: 0.0737 - val_accuracy: 0.8972\n",
            "Epoch 50/100\n",
            "39/39 [==============================] - 1s 34ms/step - loss: 0.0109 - accuracy: 0.9924 - val_loss: 0.0704 - val_accuracy: 0.9159\n",
            "Epoch 51/100\n",
            "39/39 [==============================] - 1s 35ms/step - loss: 0.0092 - accuracy: 0.9871 - val_loss: 0.0781 - val_accuracy: 0.9019\n",
            "Epoch 52/100\n",
            "39/39 [==============================] - 1s 34ms/step - loss: 0.0105 - accuracy: 0.9872 - val_loss: 0.0719 - val_accuracy: 0.9019\n",
            "Epoch 53/100\n",
            "39/39 [==============================] - 1s 34ms/step - loss: 0.0109 - accuracy: 0.9853 - val_loss: 0.0728 - val_accuracy: 0.9206\n",
            "Epoch 54/100\n",
            "39/39 [==============================] - 1s 34ms/step - loss: 0.0087 - accuracy: 0.9904 - val_loss: 0.0755 - val_accuracy: 0.9019\n",
            "Epoch 55/100\n",
            "39/39 [==============================] - 1s 34ms/step - loss: 0.0030 - accuracy: 0.9989 - val_loss: 0.0867 - val_accuracy: 0.8879\n",
            "Epoch 56/100\n",
            "39/39 [==============================] - 1s 34ms/step - loss: 0.0062 - accuracy: 0.9933 - val_loss: 0.0701 - val_accuracy: 0.9206\n",
            "Epoch 57/100\n",
            "39/39 [==============================] - 1s 34ms/step - loss: 0.0033 - accuracy: 0.9984 - val_loss: 0.0865 - val_accuracy: 0.8972\n",
            "Epoch 58/100\n",
            "39/39 [==============================] - 1s 35ms/step - loss: 0.0049 - accuracy: 0.9981 - val_loss: 0.0756 - val_accuracy: 0.9159\n",
            "Epoch 59/100\n",
            "39/39 [==============================] - 1s 35ms/step - loss: 0.0067 - accuracy: 0.9915 - val_loss: 0.0800 - val_accuracy: 0.9112\n",
            "Epoch 60/100\n",
            "39/39 [==============================] - 1s 35ms/step - loss: 0.0069 - accuracy: 0.9941 - val_loss: 0.0799 - val_accuracy: 0.9019\n",
            "Epoch 61/100\n",
            "39/39 [==============================] - 1s 35ms/step - loss: 0.0056 - accuracy: 0.9984 - val_loss: 0.0706 - val_accuracy: 0.9299\n",
            "Epoch 62/100\n",
            "39/39 [==============================] - 1s 35ms/step - loss: 0.0031 - accuracy: 0.9988 - val_loss: 0.0792 - val_accuracy: 0.9159\n",
            "Epoch 63/100\n",
            "39/39 [==============================] - 1s 34ms/step - loss: 0.0042 - accuracy: 0.9956 - val_loss: 0.0845 - val_accuracy: 0.9159\n",
            "Epoch 64/100\n",
            "39/39 [==============================] - 1s 34ms/step - loss: 0.0082 - accuracy: 0.9921 - val_loss: 0.0634 - val_accuracy: 0.9206\n",
            "Epoch 65/100\n",
            "39/39 [==============================] - 1s 34ms/step - loss: 0.0076 - accuracy: 0.9987 - val_loss: 0.0767 - val_accuracy: 0.9252\n",
            "Epoch 66/100\n",
            "39/39 [==============================] - 1s 34ms/step - loss: 0.0061 - accuracy: 0.9938 - val_loss: 0.0685 - val_accuracy: 0.9346\n",
            "Epoch 67/100\n",
            "39/39 [==============================] - 1s 35ms/step - loss: 0.0043 - accuracy: 0.9983 - val_loss: 0.0798 - val_accuracy: 0.9112\n",
            "Epoch 68/100\n",
            "39/39 [==============================] - 1s 35ms/step - loss: 0.0080 - accuracy: 0.9839 - val_loss: 0.0670 - val_accuracy: 0.9252\n",
            "Epoch 69/100\n",
            "39/39 [==============================] - 1s 34ms/step - loss: 0.0058 - accuracy: 0.9978 - val_loss: 0.0579 - val_accuracy: 0.9439\n",
            "Epoch 70/100\n",
            "39/39 [==============================] - 1s 34ms/step - loss: 0.0068 - accuracy: 0.9944 - val_loss: 0.0697 - val_accuracy: 0.9206\n",
            "Epoch 71/100\n",
            "39/39 [==============================] - 1s 35ms/step - loss: 0.0047 - accuracy: 0.9928 - val_loss: 0.0645 - val_accuracy: 0.9299\n",
            "Epoch 72/100\n",
            "39/39 [==============================] - 1s 34ms/step - loss: 0.0028 - accuracy: 1.0000 - val_loss: 0.0780 - val_accuracy: 0.9299\n",
            "Epoch 73/100\n",
            "39/39 [==============================] - 1s 35ms/step - loss: 0.0058 - accuracy: 0.9934 - val_loss: 0.0854 - val_accuracy: 0.8925\n",
            "Epoch 74/100\n",
            "39/39 [==============================] - 1s 36ms/step - loss: 0.0086 - accuracy: 0.9944 - val_loss: 0.0944 - val_accuracy: 0.8879\n",
            "Epoch 75/100\n",
            "39/39 [==============================] - 1s 35ms/step - loss: 0.0042 - accuracy: 0.9982 - val_loss: 0.0805 - val_accuracy: 0.9159\n",
            "Epoch 76/100\n",
            "39/39 [==============================] - 1s 34ms/step - loss: 0.0071 - accuracy: 0.9938 - val_loss: 0.0645 - val_accuracy: 0.9299\n",
            "Epoch 77/100\n",
            "39/39 [==============================] - 1s 34ms/step - loss: 0.0067 - accuracy: 0.9937 - val_loss: 0.0739 - val_accuracy: 0.9252\n",
            "Epoch 78/100\n",
            "39/39 [==============================] - 1s 34ms/step - loss: 0.0072 - accuracy: 0.9917 - val_loss: 0.0698 - val_accuracy: 0.9112\n",
            "Epoch 79/100\n",
            "39/39 [==============================] - 1s 33ms/step - loss: 0.0034 - accuracy: 0.9966 - val_loss: 0.0692 - val_accuracy: 0.9252\n",
            "Epoch 80/100\n",
            "39/39 [==============================] - 1s 34ms/step - loss: 0.0035 - accuracy: 0.9969 - val_loss: 0.0688 - val_accuracy: 0.9252\n",
            "Epoch 81/100\n",
            "39/39 [==============================] - 1s 33ms/step - loss: 0.0066 - accuracy: 0.9957 - val_loss: 0.0693 - val_accuracy: 0.9065\n",
            "Epoch 82/100\n",
            "39/39 [==============================] - 1s 33ms/step - loss: 0.0039 - accuracy: 0.9968 - val_loss: 0.0677 - val_accuracy: 0.9112\n",
            "Epoch 83/100\n",
            "39/39 [==============================] - 1s 33ms/step - loss: 0.0031 - accuracy: 0.9983 - val_loss: 0.0758 - val_accuracy: 0.9206\n",
            "Epoch 84/100\n",
            "39/39 [==============================] - 1s 34ms/step - loss: 0.0022 - accuracy: 1.0000 - val_loss: 0.0869 - val_accuracy: 0.8972\n",
            "Epoch 85/100\n",
            "39/39 [==============================] - 1s 33ms/step - loss: 0.0028 - accuracy: 0.9991 - val_loss: 0.0838 - val_accuracy: 0.9159\n",
            "Epoch 86/100\n",
            "39/39 [==============================] - 1s 34ms/step - loss: 0.0045 - accuracy: 0.9908 - val_loss: 0.0684 - val_accuracy: 0.9206\n",
            "Epoch 87/100\n",
            "39/39 [==============================] - 1s 34ms/step - loss: 0.0036 - accuracy: 0.9986 - val_loss: 0.0911 - val_accuracy: 0.9019\n",
            "Epoch 88/100\n",
            "39/39 [==============================] - 1s 34ms/step - loss: 0.0191 - accuracy: 0.9789 - val_loss: 0.1122 - val_accuracy: 0.8738\n",
            "Epoch 89/100\n",
            "39/39 [==============================] - 1s 35ms/step - loss: 0.0080 - accuracy: 0.9843 - val_loss: 0.1032 - val_accuracy: 0.8879\n",
            "Epoch 90/100\n",
            "39/39 [==============================] - 1s 35ms/step - loss: 0.0060 - accuracy: 0.9957 - val_loss: 0.0932 - val_accuracy: 0.9206\n",
            "Epoch 91/100\n",
            "39/39 [==============================] - 1s 34ms/step - loss: 0.0013 - accuracy: 1.0000 - val_loss: 0.0820 - val_accuracy: 0.9159\n",
            "Epoch 92/100\n",
            "39/39 [==============================] - 1s 34ms/step - loss: 0.0040 - accuracy: 0.9982 - val_loss: 0.0986 - val_accuracy: 0.8972\n",
            "Epoch 93/100\n",
            "39/39 [==============================] - 1s 34ms/step - loss: 0.0076 - accuracy: 0.9935 - val_loss: 0.0872 - val_accuracy: 0.9112\n",
            "Epoch 94/100\n",
            "39/39 [==============================] - 1s 34ms/step - loss: 0.0082 - accuracy: 0.9881 - val_loss: 0.1156 - val_accuracy: 0.8879\n",
            "Epoch 95/100\n",
            "39/39 [==============================] - 1s 34ms/step - loss: 0.0080 - accuracy: 0.9920 - val_loss: 0.0765 - val_accuracy: 0.9252\n",
            "Epoch 96/100\n",
            "39/39 [==============================] - 1s 35ms/step - loss: 0.0043 - accuracy: 0.9982 - val_loss: 0.0752 - val_accuracy: 0.9206\n",
            "Epoch 97/100\n",
            "39/39 [==============================] - 1s 34ms/step - loss: 0.0066 - accuracy: 0.9933 - val_loss: 0.0790 - val_accuracy: 0.9065\n",
            "Epoch 98/100\n",
            "39/39 [==============================] - 1s 35ms/step - loss: 0.0028 - accuracy: 0.9998 - val_loss: 0.0842 - val_accuracy: 0.9206\n",
            "Epoch 99/100\n",
            "39/39 [==============================] - 1s 34ms/step - loss: 0.0042 - accuracy: 0.9962 - val_loss: 0.0845 - val_accuracy: 0.9112\n",
            "Epoch 100/100\n",
            "39/39 [==============================] - 1s 35ms/step - loss: 0.0085 - accuracy: 0.9928 - val_loss: 0.0862 - val_accuracy: 0.8972\n",
            "INFO:tensorflow:Assets written to: /content/drive/MyDrive/Colab Notebooks/data_face_recognition/model/face_recognition_model_cnn/assets\n"
          ],
          "name": "stdout"
        }
      ]
    },
    {
      "cell_type": "code",
      "metadata": {
        "colab": {
          "base_uri": "https://localhost:8080/",
          "height": 320
        },
        "id": "HLpd5pVwDRfU",
        "outputId": "3b56bb75-5cbd-45fa-b8a3-9d690c4f0b00"
      },
      "source": [
        "import pandas as pd\n",
        "pd.DataFrame(history.history).plot(figsize=(8,5))\n",
        "plt.show()\n"
      ],
      "execution_count": null,
      "outputs": [
        {
          "output_type": "display_data",
          "data": {
            "image/png": "[encoded data removed]",
            "text/plain": [
              "<Figure size 576x360 with 1 Axes>"
            ]
          },
          "metadata": {
            "tags": [],
            "needs_background": "light"
          }
        }
      ]
    },
    {
      "cell_type": "markdown",
      "metadata": {
        "id": "wuGJYTW6A02e"
      },
      "source": [
        "Plot the acc and loss of model"
      ]
    },
    {
      "cell_type": "markdown",
      "metadata": {
        "id": "mTRXRrvlF6Lf"
      },
      "source": [
        "Test model pre-train"
      ]
    },
    {
      "cell_type": "code",
      "metadata": {
        "id": "UZcie0zk69qR"
      },
      "source": [
        "# load model\n",
        "model_cnn = tf.keras.models.load_model(model_path)"
      ],
      "execution_count": null,
      "outputs": []
    },
    {
      "cell_type": "code",
      "metadata": {
        "id": "Bb2hNSSHEde_",
        "colab": {
          "base_uri": "https://localhost:8080/"
        },
        "outputId": "fad7c411-6f37-441d-a97d-f63439e54748"
      },
      "source": [
        "# test model\n",
        "y_pred = model_cnn.predict(X_test)\n",
        "count = 0\n",
        "for i in range(len(X_test)):\n",
        "    index = y_pred[i].tolist()\n",
        "    pred = index.index(max(index))\n",
        "    index = y_test[i].tolist()\n",
        "    true = index.index(max(index))\n",
        "\n",
        "    print(pred, \"-------\", true)\n",
        "    if pred == true:\n",
        "        count+=1\n",
        "\n",
        "print(count, len(y_test))\n",
        "\n",
        "#================================================================================================================================\n",
        "print('========================')\n",
        "\n",
        "# test data with the image capture from cam\n",
        "path_test = '/content/drive/MyDrive/Colab Notebooks/data_face_recognition/data_test'\n",
        "images = [os.path.join(path_test, f) for f in os.listdir(path_test)]\n",
        "faces_test = []\n",
        "fix_size = (size_img, size_img)\n",
        "\n",
        "for image in images:\n",
        "\n",
        "      face_img = Image.open(image).convert('L')  #.convert('L) to gray image, not need gray in under\n",
        "      # # convert color to gray\n",
        "      # gray_image = ImageOps.grayscale(face_img)\n",
        "\n",
        "      # resize\n",
        "      face_np = np.array(face_img, 'uint8')\n",
        "      face_resize = cv2.resize(face_np, fix_size)\n",
        "\n",
        "      # split to get ID of the image\n",
        "\n",
        "      faces_test.append(face_resize)\n",
        "\n",
        "faces_test = np.array(faces_test)\n",
        "test_data = faces_test.reshape((-1,size_img,size_img,1))\n",
        "predict = model_cnn.predict(test_data)\n",
        "count = 0\n",
        "for i in predict:\n",
        "  mid = i.tolist()\n",
        "  label = id_classes[mid.index(max(mid))]\n",
        "  if label == 2:\n",
        "    count += 1\n",
        "  print(id_classes[mid.index(max(mid))])\n",
        "print(count, len(predict))"
      ],
      "execution_count": null,
      "outputs": [
        {
          "output_type": "stream",
          "text": [
            "8 ------- 9\n",
            "5 ------- 5\n",
            "0 ------- 0\n",
            "3 ------- 3\n",
            "1 ------- 1\n",
            "6 ------- 6\n",
            "0 ------- 0\n",
            "1 ------- 1\n",
            "5 ------- 5\n",
            "6 ------- 2\n",
            "8 ------- 8\n",
            "1 ------- 1\n",
            "1 ------- 1\n",
            "0 ------- 0\n",
            "4 ------- 4\n",
            "4 ------- 4\n",
            "1 ------- 1\n",
            "8 ------- 8\n",
            "0 ------- 0\n",
            "4 ------- 4\n",
            "0 ------- 0\n",
            "0 ------- 0\n",
            "1 ------- 1\n",
            "5 ------- 5\n",
            "1 ------- 1\n",
            "7 ------- 7\n",
            "5 ------- 5\n",
            "0 ------- 0\n",
            "8 ------- 8\n",
            "8 ------- 8\n",
            "0 ------- 0\n",
            "9 ------- 9\n",
            "1 ------- 1\n",
            "1 ------- 1\n",
            "6 ------- 6\n",
            "1 ------- 1\n",
            "1 ------- 1\n",
            "8 ------- 5\n",
            "9 ------- 9\n",
            "0 ------- 0\n",
            "0 ------- 0\n",
            "1 ------- 1\n",
            "0 ------- 0\n",
            "1 ------- 1\n",
            "8 ------- 8\n",
            "6 ------- 6\n",
            "5 ------- 5\n",
            "9 ------- 9\n",
            "8 ------- 8\n",
            "2 ------- 2\n",
            "2 ------- 2\n",
            "0 ------- 0\n",
            "1 ------- 1\n",
            "4 ------- 4\n",
            "51 54\n",
            "========================\n",
            "2\n",
            "2\n",
            "2\n",
            "2\n",
            "2\n",
            "2\n",
            "2\n",
            "2\n",
            "2\n",
            "2\n",
            "2\n",
            "2\n",
            "2\n",
            "2\n",
            "2\n",
            "2\n",
            "2\n",
            "2\n",
            "2\n",
            "2\n",
            "2\n",
            "2\n",
            "1\n",
            "2\n",
            "2\n",
            "2\n",
            "2\n",
            "2\n",
            "2\n",
            "2\n",
            "1\n",
            "1\n",
            "1\n",
            "1\n",
            "1\n",
            "1\n",
            "1\n",
            "1\n",
            "1\n",
            "1\n",
            "1\n",
            "1\n",
            "1\n",
            "1\n",
            "1\n",
            "1\n",
            "1\n",
            "1\n",
            "1\n",
            "1\n",
            "1\n",
            "29 51\n"
          ],
          "name": "stdout"
        }
      ]
    },
    {
      "cell_type": "markdown",
      "metadata": {
        "id": "klrw8NtEwz13"
      },
      "source": [
        "This paper is good for dataset but real is not, using camera to recognition is bad\n"
      ]
    }
  ]
}